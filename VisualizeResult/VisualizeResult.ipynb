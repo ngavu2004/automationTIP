{
 "cells": [
  {
   "cell_type": "code",
   "execution_count": 1,
   "metadata": {},
   "outputs": [],
   "source": [
    "import pandas as pd\n",
    "import numpy as np\n",
    "import matplotlib.pyplot as plt\n",
    "import seaborn as sns\n",
    "import plotly.express as px\n",
    "from sklearn import metrics\n",
    "from sklearn.metrics import precision_score,recall_score, f1_score, accuracy_score\n",
    "import re\n",
    "import yaml"
   ]
  },
  {
   "cell_type": "markdown",
   "metadata": {},
   "source": [
    "# Format rubric file"
   ]
  },
  {
   "cell_type": "code",
   "execution_count": 45,
   "metadata": {},
   "outputs": [],
   "source": [
    "def load_rubric(filename: str):\n",
    "    with open(filename, 'r') as file:\n",
    "        rubric = yaml.safe_load(file)\n",
    "    return rubric"
   ]
  },
  {
   "cell_type": "code",
   "execution_count": 46,
   "metadata": {},
   "outputs": [],
   "source": [
    "rubric_section_map = {\n",
    "    'Description': 'Project Description / Purpose',\n",
    "    'Overview': 'Project Overview',\n",
    "    'Timeline': 'Timeline',\n",
    "    'Scope': 'Project Scope',\n",
    "    'Team': 'Project Team',\n",
    "}"
   ]
  },
  {
   "cell_type": "code",
   "execution_count": 81,
   "metadata": {},
   "outputs": [],
   "source": [
    "inv_rubric_section_map = {v: k for k, v in rubric_section_map.items()}"
   ]
  },
  {
   "cell_type": "code",
   "execution_count": 47,
   "metadata": {},
   "outputs": [
    {
     "data": {
      "text/plain": [
       "{'Project Description / Purpose': {'criteria': [{'name': \"Question 1. Does the value of the 'Project Name:' attribute exist in the file?\",\n",
       "    'grade_range': '0-2'},\n",
       "   {'name': \"Question 2. Does the value of the 'Clinic:' attribute exist in the file?\",\n",
       "    'grade_range': '0-2'},\n",
       "   {'name': \"Question 3. Does the value of the 'Process:' attribute exist in the file?\",\n",
       "    'grade_range': '0-2'},\n",
       "   {'name': \"Question 4. Does the value of the 'TIP 2.0 Process Milestone:' attribute exist in the file?\",\n",
       "    'grade_range': '0-2'},\n",
       "   {'name': \"Question 5. Does the value of the 'TIP 2.0 Process Milestone:' attribute provide specific process milestone details?\",\n",
       "    'grade_range': '0-2'},\n",
       "   {'name': \"Question 6. Does the value of the 'Project Description / Purpose' attribute include a brief description of the project?\",\n",
       "    'grade_range': '0-5'},\n",
       "   {'name': \"Question 7. Does the value of the 'Project Description / Purpose' attribute include a sentence that explicitly state the aims or purpose of the project?\",\n",
       "    'grade_range': '0-5'},\n",
       "   {'name': \"Question 8. Does the value of the 'Project Description / Purpose' attribute include detailed expected results from the project?\",\n",
       "    'grade_range': '0-5'}],\n",
       "  'threshold': 11},\n",
       " 'Project Overview': {'criteria': [{'name': \"Question 1. Does the value of the 'Problem Summary:' attribute include a detailed (at least 1 sentence) and logical problem statement?\",\n",
       "    'grade_range': '0-9'},\n",
       "   {'name': \"Question 2. Does the value of the 'Desired Outcome(s):' attribute include a at least 1 sentence explicitly talking about the expected results/desired outcomes?\",\n",
       "    'grade_range': '0-8'},\n",
       "   {'name': \"Question 3. Does the value of the 'Benefits:' attribute include a detailed (at least 1 sentence) explicitly talking about the benefits of this project?\",\n",
       "    'grade_range': '0-8'}],\n",
       "  'threshold': 10},\n",
       " 'Timeline': {'criteria': [{'name': 'Question 1. Does the task list contain a comprehensive set of key tasks? (Evaluate all tasks together)',\n",
       "    'grade_range': '0-10'},\n",
       "   {'name': 'Question 2. Does the task list contain specific planned completion due dates for each task? (Evaluate all tasks together)',\n",
       "    'grade_range': '0-10'}],\n",
       "  'threshold': 8},\n",
       " 'Project Scope': {'criteria': [{'name': \"Question 1. Does the value of the 'In Scope Project Objectives' attribute include an aligned objectives with the project purpose?\",\n",
       "    'grade_range': '0-8'},\n",
       "   {'name': \"Question 2. Does the value of the 'Out of Scope Project Objectives or Activities' attribute include an aligned objectives with the project purpose?\",\n",
       "    'grade_range': '0-7'}],\n",
       "  'threshold': 6},\n",
       " 'Project Team': {'criteria': [{'name': \"Question 1. Does the value of the 'Team Lead:' attribute contain an individual's name?\",\n",
       "    'grade_range': '0-2'},\n",
       "   {'name': \"Question 2. Does the value of the 'Project Champion:' attribute contain an individual's name?\",\n",
       "    'grade_range': '0-2'},\n",
       "   {'name': \"Question 3. Does the value of the 'Process Owner:' attribute contain an individual's name?\",\n",
       "    'grade_range': '0-2'},\n",
       "   {'name': \"Question 4. Does the value of the 'Process Manager:' attribute contain an individual's name?\",\n",
       "    'grade_range': '0-2'},\n",
       "   {'name': \"Question 5. Does the value of the 'Stakeholders' stakeholder attribute contain an individual's name?\",\n",
       "    'grade_range': '0-2'},\n",
       "   {'name': \"Question 6. Does the 'Stakeholders' contain values for the attributes: stakeholder, title, department, and organization?\",\n",
       "    'grade_range': '0-2'},\n",
       "   {'name': \"Question 7. Does the value of the 'Project Team Members' Name attribute contain an individual's name?\",\n",
       "    'grade_range': '0-2'},\n",
       "   {'name': \"Question 8. Do the 'Project Team Members' contain role values for the 'Team role' attribute?\",\n",
       "    'grade_range': '0-1'}],\n",
       "  'threshold': 8}}"
      ]
     },
     "execution_count": 47,
     "metadata": {},
     "output_type": "execute_result"
    }
   ],
   "source": [
    "rubric_file = load_rubric('../Prompts/rubric.yaml')\n",
    "rubric_file"
   ]
  },
  {
   "cell_type": "markdown",
   "metadata": {},
   "source": [
    "# Visualize result df"
   ]
  },
  {
   "cell_type": "code",
   "execution_count": 4,
   "metadata": {},
   "outputs": [
    {
     "data": {
      "text/html": [
       "<div>\n",
       "<style scoped>\n",
       "    .dataframe tbody tr th:only-of-type {\n",
       "        vertical-align: middle;\n",
       "    }\n",
       "\n",
       "    .dataframe tbody tr th {\n",
       "        vertical-align: top;\n",
       "    }\n",
       "\n",
       "    .dataframe thead th {\n",
       "        text-align: right;\n",
       "    }\n",
       "</style>\n",
       "<table border=\"1\" class=\"dataframe\">\n",
       "  <thead>\n",
       "    <tr style=\"text-align: right;\">\n",
       "      <th></th>\n",
       "      <th>File Name</th>\n",
       "      <th>Project Description / Purpose Total Score</th>\n",
       "      <th>Project Description / Purpose Overall Description</th>\n",
       "      <th>Project Overview Total Score</th>\n",
       "      <th>Project Overview Overall Description</th>\n",
       "      <th>Timeline Total Score</th>\n",
       "      <th>Timeline Overall Description</th>\n",
       "      <th>Project Scope Total Score</th>\n",
       "      <th>Project Scope Overall Description</th>\n",
       "      <th>Project Team Total Score</th>\n",
       "      <th>Project Team Overall Description</th>\n",
       "      <th>Document Total Score</th>\n",
       "    </tr>\n",
       "  </thead>\n",
       "  <tbody>\n",
       "    <tr>\n",
       "      <th>0</th>\n",
       "      <td>input1</td>\n",
       "      <td>12.0</td>\n",
       "      <td>The 'Project Description / Purpose' section pr...</td>\n",
       "      <td>21.0</td>\n",
       "      <td>The Project Overview section is well-structure...</td>\n",
       "      <td>17.0</td>\n",
       "      <td>The timeline section is well-organized and pro...</td>\n",
       "      <td>8.0</td>\n",
       "      <td>The 'Project Scope' section demonstrates a str...</td>\n",
       "      <td>9.0</td>\n",
       "      <td>The project team report has some strengths, su...</td>\n",
       "      <td>67</td>\n",
       "    </tr>\n",
       "    <tr>\n",
       "      <th>1</th>\n",
       "      <td>input2</td>\n",
       "      <td>17.0</td>\n",
       "      <td>The 'Project Description / Purpose' section is...</td>\n",
       "      <td>22.0</td>\n",
       "      <td>The Project Overview section is well-structure...</td>\n",
       "      <td>19.0</td>\n",
       "      <td>The 'Timeline' section of the report is well-o...</td>\n",
       "      <td>10.0</td>\n",
       "      <td>The report provides a good foundation for unde...</td>\n",
       "      <td>6.0</td>\n",
       "      <td>The project team section has some strengths, s...</td>\n",
       "      <td>74</td>\n",
       "    </tr>\n",
       "    <tr>\n",
       "      <th>2</th>\n",
       "      <td>input3</td>\n",
       "      <td>12.0</td>\n",
       "      <td>The 'Project Description / Purpose' section pr...</td>\n",
       "      <td>19.0</td>\n",
       "      <td>The project overview section provides a good f...</td>\n",
       "      <td>19.0</td>\n",
       "      <td>The 'Timeline' section of the project report i...</td>\n",
       "      <td>8.0</td>\n",
       "      <td>The report demonstrates a clear understanding ...</td>\n",
       "      <td>8.0</td>\n",
       "      <td>The project team section has some strengths, s...</td>\n",
       "      <td>66</td>\n",
       "    </tr>\n",
       "    <tr>\n",
       "      <th>3</th>\n",
       "      <td>input4</td>\n",
       "      <td>12.0</td>\n",
       "      <td>The 'Project Description / Purpose' section pr...</td>\n",
       "      <td>19.0</td>\n",
       "      <td>The project overview section provides a good f...</td>\n",
       "      <td>19.0</td>\n",
       "      <td>The 'Timeline' section of the project report i...</td>\n",
       "      <td>8.0</td>\n",
       "      <td>The report demonstrates a clear understanding ...</td>\n",
       "      <td>8.0</td>\n",
       "      <td>The project team section has some strengths, s...</td>\n",
       "      <td>66</td>\n",
       "    </tr>\n",
       "    <tr>\n",
       "      <th>4</th>\n",
       "      <td>input5</td>\n",
       "      <td>10.0</td>\n",
       "      <td>The report provides a good overview of the pro...</td>\n",
       "      <td>21.0</td>\n",
       "      <td>The Project Overview section provides a good f...</td>\n",
       "      <td>19.0</td>\n",
       "      <td>The 'Timeline' section of the report is well-o...</td>\n",
       "      <td>14.0</td>\n",
       "      <td>The 'Project Scope' section of the report effe...</td>\n",
       "      <td>9.0</td>\n",
       "      <td>The project team section has some strengths, s...</td>\n",
       "      <td>73</td>\n",
       "    </tr>\n",
       "    <tr>\n",
       "      <th>5</th>\n",
       "      <td>input6</td>\n",
       "      <td>17.0</td>\n",
       "      <td>The 'Project Description / Purpose' section is...</td>\n",
       "      <td>21.0</td>\n",
       "      <td>The Project Overview section provides a good f...</td>\n",
       "      <td>19.0</td>\n",
       "      <td>The 'Timeline' section of the project report i...</td>\n",
       "      <td>14.0</td>\n",
       "      <td>The project scope is well-defined, with clear ...</td>\n",
       "      <td>9.0</td>\n",
       "      <td>The project report's 'Project Team' section ge...</td>\n",
       "      <td>80</td>\n",
       "    </tr>\n",
       "    <tr>\n",
       "      <th>6</th>\n",
       "      <td>input7</td>\n",
       "      <td>12.0</td>\n",
       "      <td>The report provides a good overview of the pro...</td>\n",
       "      <td>24.0</td>\n",
       "      <td>The Project Overview section demonstrates good...</td>\n",
       "      <td>19.0</td>\n",
       "      <td>The project report's timeline section is well-...</td>\n",
       "      <td>8.0</td>\n",
       "      <td>The report meets expectations for 'In Scope Pr...</td>\n",
       "      <td>9.0</td>\n",
       "      <td>The project report has a strong start with cle...</td>\n",
       "      <td>72</td>\n",
       "    </tr>\n",
       "    <tr>\n",
       "      <th>7</th>\n",
       "      <td>input8</td>\n",
       "      <td>17.0</td>\n",
       "      <td>The 'Project Description / Purpose' section is...</td>\n",
       "      <td>21.0</td>\n",
       "      <td>The Project Overview section meets most of the...</td>\n",
       "      <td>19.0</td>\n",
       "      <td>The 'Timeline' section of the report is well-o...</td>\n",
       "      <td>15.0</td>\n",
       "      <td>The 'Project Scope' section demonstrates a cle...</td>\n",
       "      <td>9.0</td>\n",
       "      <td>The project report has a strong start with cle...</td>\n",
       "      <td>81</td>\n",
       "    </tr>\n",
       "    <tr>\n",
       "      <th>8</th>\n",
       "      <td>input9</td>\n",
       "      <td>12.0</td>\n",
       "      <td>The 'Project Description / Purpose' section pr...</td>\n",
       "      <td>21.0</td>\n",
       "      <td>The Project Overview section provides a good f...</td>\n",
       "      <td>17.0</td>\n",
       "      <td>The timeline section is generally well-organiz...</td>\n",
       "      <td>15.0</td>\n",
       "      <td>The project report provides clear and well-def...</td>\n",
       "      <td>9.0</td>\n",
       "      <td>The project report provides some information a...</td>\n",
       "      <td>74</td>\n",
       "    </tr>\n",
       "    <tr>\n",
       "      <th>9</th>\n",
       "      <td>input10</td>\n",
       "      <td>12.0</td>\n",
       "      <td>The 'Project Description / Purpose' section pr...</td>\n",
       "      <td>24.0</td>\n",
       "      <td>The Project Overview section is well-structure...</td>\n",
       "      <td>19.0</td>\n",
       "      <td>The timeline section of the report is well-org...</td>\n",
       "      <td>14.0</td>\n",
       "      <td>The 'Project Scope' section is well-structured...</td>\n",
       "      <td>9.0</td>\n",
       "      <td>The project report has a strong start with cle...</td>\n",
       "      <td>78</td>\n",
       "    </tr>\n",
       "    <tr>\n",
       "      <th>10</th>\n",
       "      <td>input11</td>\n",
       "      <td>12.0</td>\n",
       "      <td>The 'Project Description / Purpose' section pr...</td>\n",
       "      <td>17.0</td>\n",
       "      <td>The Project Overview section is generally well...</td>\n",
       "      <td>17.0</td>\n",
       "      <td>The timeline section of the report is generall...</td>\n",
       "      <td>8.0</td>\n",
       "      <td>The 'Project Scope' section of the report is w...</td>\n",
       "      <td>7.0</td>\n",
       "      <td>The project team report has some strengths, su...</td>\n",
       "      <td>61</td>\n",
       "    </tr>\n",
       "    <tr>\n",
       "      <th>11</th>\n",
       "      <td>input12</td>\n",
       "      <td>15.0</td>\n",
       "      <td>The 'Project Description / Purpose' section pr...</td>\n",
       "      <td>23.0</td>\n",
       "      <td>The Project Overview section provides a good f...</td>\n",
       "      <td>18.0</td>\n",
       "      <td>The 'Timeline' section of this report is gener...</td>\n",
       "      <td>15.0</td>\n",
       "      <td>The 'Project Scope' section of the report is w...</td>\n",
       "      <td>7.0</td>\n",
       "      <td>The project team section has some strengths, s...</td>\n",
       "      <td>78</td>\n",
       "    </tr>\n",
       "    <tr>\n",
       "      <th>13</th>\n",
       "      <td>input14</td>\n",
       "      <td>10.0</td>\n",
       "      <td>The 'Project Description / Purpose' section pr...</td>\n",
       "      <td>23.0</td>\n",
       "      <td>The 'Project Overview' section provides a soli...</td>\n",
       "      <td>17.0</td>\n",
       "      <td>The task list in the project report provides a...</td>\n",
       "      <td>8.0</td>\n",
       "      <td>The report's 'Project Scope' section is well-o...</td>\n",
       "      <td>6.0</td>\n",
       "      <td>The project team report partially meets the cr...</td>\n",
       "      <td>64</td>\n",
       "    </tr>\n",
       "    <tr>\n",
       "      <th>14</th>\n",
       "      <td>input15</td>\n",
       "      <td>12.0</td>\n",
       "      <td>The report provides a good foundation for the ...</td>\n",
       "      <td>21.0</td>\n",
       "      <td>The Project Overview section provides a good f...</td>\n",
       "      <td>14.0</td>\n",
       "      <td>The timeline section of the project report is ...</td>\n",
       "      <td>0.0</td>\n",
       "      <td>The report lacks clear and specific project ob...</td>\n",
       "      <td>6.0</td>\n",
       "      <td>The project team report partially meets the cr...</td>\n",
       "      <td>53</td>\n",
       "    </tr>\n",
       "    <tr>\n",
       "      <th>15</th>\n",
       "      <td>input16</td>\n",
       "      <td>12.0</td>\n",
       "      <td>The 'Project Description / Purpose' section pr...</td>\n",
       "      <td>25.0</td>\n",
       "      <td>The 'Project Overview' section is well-written...</td>\n",
       "      <td>17.0</td>\n",
       "      <td>The timeline section of the project report pro...</td>\n",
       "      <td>8.0</td>\n",
       "      <td>The report demonstrates strong alignment betwe...</td>\n",
       "      <td>7.0</td>\n",
       "      <td>The Project Team section has some strengths, s...</td>\n",
       "      <td>69</td>\n",
       "    </tr>\n",
       "  </tbody>\n",
       "</table>\n",
       "</div>"
      ],
      "text/plain": [
       "   File Name  Project Description / Purpose Total Score  \\\n",
       "0     input1                                       12.0   \n",
       "1     input2                                       17.0   \n",
       "2     input3                                       12.0   \n",
       "3     input4                                       12.0   \n",
       "4     input5                                       10.0   \n",
       "5     input6                                       17.0   \n",
       "6     input7                                       12.0   \n",
       "7     input8                                       17.0   \n",
       "8     input9                                       12.0   \n",
       "9    input10                                       12.0   \n",
       "10   input11                                       12.0   \n",
       "11   input12                                       15.0   \n",
       "13   input14                                       10.0   \n",
       "14   input15                                       12.0   \n",
       "15   input16                                       12.0   \n",
       "\n",
       "    Project Description / Purpose Overall Description  \\\n",
       "0   The 'Project Description / Purpose' section pr...   \n",
       "1   The 'Project Description / Purpose' section is...   \n",
       "2   The 'Project Description / Purpose' section pr...   \n",
       "3   The 'Project Description / Purpose' section pr...   \n",
       "4   The report provides a good overview of the pro...   \n",
       "5   The 'Project Description / Purpose' section is...   \n",
       "6   The report provides a good overview of the pro...   \n",
       "7   The 'Project Description / Purpose' section is...   \n",
       "8   The 'Project Description / Purpose' section pr...   \n",
       "9   The 'Project Description / Purpose' section pr...   \n",
       "10  The 'Project Description / Purpose' section pr...   \n",
       "11  The 'Project Description / Purpose' section pr...   \n",
       "13  The 'Project Description / Purpose' section pr...   \n",
       "14  The report provides a good foundation for the ...   \n",
       "15  The 'Project Description / Purpose' section pr...   \n",
       "\n",
       "    Project Overview Total Score  \\\n",
       "0                           21.0   \n",
       "1                           22.0   \n",
       "2                           19.0   \n",
       "3                           19.0   \n",
       "4                           21.0   \n",
       "5                           21.0   \n",
       "6                           24.0   \n",
       "7                           21.0   \n",
       "8                           21.0   \n",
       "9                           24.0   \n",
       "10                          17.0   \n",
       "11                          23.0   \n",
       "13                          23.0   \n",
       "14                          21.0   \n",
       "15                          25.0   \n",
       "\n",
       "                 Project Overview Overall Description  Timeline Total Score  \\\n",
       "0   The Project Overview section is well-structure...                  17.0   \n",
       "1   The Project Overview section is well-structure...                  19.0   \n",
       "2   The project overview section provides a good f...                  19.0   \n",
       "3   The project overview section provides a good f...                  19.0   \n",
       "4   The Project Overview section provides a good f...                  19.0   \n",
       "5   The Project Overview section provides a good f...                  19.0   \n",
       "6   The Project Overview section demonstrates good...                  19.0   \n",
       "7   The Project Overview section meets most of the...                  19.0   \n",
       "8   The Project Overview section provides a good f...                  17.0   \n",
       "9   The Project Overview section is well-structure...                  19.0   \n",
       "10  The Project Overview section is generally well...                  17.0   \n",
       "11  The Project Overview section provides a good f...                  18.0   \n",
       "13  The 'Project Overview' section provides a soli...                  17.0   \n",
       "14  The Project Overview section provides a good f...                  14.0   \n",
       "15  The 'Project Overview' section is well-written...                  17.0   \n",
       "\n",
       "                         Timeline Overall Description  \\\n",
       "0   The timeline section is well-organized and pro...   \n",
       "1   The 'Timeline' section of the report is well-o...   \n",
       "2   The 'Timeline' section of the project report i...   \n",
       "3   The 'Timeline' section of the project report i...   \n",
       "4   The 'Timeline' section of the report is well-o...   \n",
       "5   The 'Timeline' section of the project report i...   \n",
       "6   The project report's timeline section is well-...   \n",
       "7   The 'Timeline' section of the report is well-o...   \n",
       "8   The timeline section is generally well-organiz...   \n",
       "9   The timeline section of the report is well-org...   \n",
       "10  The timeline section of the report is generall...   \n",
       "11  The 'Timeline' section of this report is gener...   \n",
       "13  The task list in the project report provides a...   \n",
       "14  The timeline section of the project report is ...   \n",
       "15  The timeline section of the project report pro...   \n",
       "\n",
       "    Project Scope Total Score  \\\n",
       "0                         8.0   \n",
       "1                        10.0   \n",
       "2                         8.0   \n",
       "3                         8.0   \n",
       "4                        14.0   \n",
       "5                        14.0   \n",
       "6                         8.0   \n",
       "7                        15.0   \n",
       "8                        15.0   \n",
       "9                        14.0   \n",
       "10                        8.0   \n",
       "11                       15.0   \n",
       "13                        8.0   \n",
       "14                        0.0   \n",
       "15                        8.0   \n",
       "\n",
       "                    Project Scope Overall Description  \\\n",
       "0   The 'Project Scope' section demonstrates a str...   \n",
       "1   The report provides a good foundation for unde...   \n",
       "2   The report demonstrates a clear understanding ...   \n",
       "3   The report demonstrates a clear understanding ...   \n",
       "4   The 'Project Scope' section of the report effe...   \n",
       "5   The project scope is well-defined, with clear ...   \n",
       "6   The report meets expectations for 'In Scope Pr...   \n",
       "7   The 'Project Scope' section demonstrates a cle...   \n",
       "8   The project report provides clear and well-def...   \n",
       "9   The 'Project Scope' section is well-structured...   \n",
       "10  The 'Project Scope' section of the report is w...   \n",
       "11  The 'Project Scope' section of the report is w...   \n",
       "13  The report's 'Project Scope' section is well-o...   \n",
       "14  The report lacks clear and specific project ob...   \n",
       "15  The report demonstrates strong alignment betwe...   \n",
       "\n",
       "    Project Team Total Score  \\\n",
       "0                        9.0   \n",
       "1                        6.0   \n",
       "2                        8.0   \n",
       "3                        8.0   \n",
       "4                        9.0   \n",
       "5                        9.0   \n",
       "6                        9.0   \n",
       "7                        9.0   \n",
       "8                        9.0   \n",
       "9                        9.0   \n",
       "10                       7.0   \n",
       "11                       7.0   \n",
       "13                       6.0   \n",
       "14                       6.0   \n",
       "15                       7.0   \n",
       "\n",
       "                     Project Team Overall Description  Document Total Score  \n",
       "0   The project team report has some strengths, su...                    67  \n",
       "1   The project team section has some strengths, s...                    74  \n",
       "2   The project team section has some strengths, s...                    66  \n",
       "3   The project team section has some strengths, s...                    66  \n",
       "4   The project team section has some strengths, s...                    73  \n",
       "5   The project report's 'Project Team' section ge...                    80  \n",
       "6   The project report has a strong start with cle...                    72  \n",
       "7   The project report has a strong start with cle...                    81  \n",
       "8   The project report provides some information a...                    74  \n",
       "9   The project report has a strong start with cle...                    78  \n",
       "10  The project team report has some strengths, su...                    61  \n",
       "11  The project team section has some strengths, s...                    78  \n",
       "13  The project team report partially meets the cr...                    64  \n",
       "14  The project team report partially meets the cr...                    53  \n",
       "15  The Project Team section has some strengths, s...                    69  "
      ]
     },
     "execution_count": 4,
     "metadata": {},
     "output_type": "execute_result"
    }
   ],
   "source": [
    "result_df = pd.read_csv('../Documents/Results/result.csv').dropna()\n",
    "result_df"
   ]
  },
  {
   "cell_type": "code",
   "execution_count": 5,
   "metadata": {},
   "outputs": [
    {
     "data": {
      "application/vnd.plotly.v1+json": {
       "config": {
        "plotlyServerURL": "https://plot.ly"
       },
       "data": [
        {
         "hovertemplate": "Score Type=Project Description / Purpose Total Score<br>File Name=%{x}<br>Score=%{y}<extra></extra>",
         "legendgroup": "Project Description / Purpose Total Score",
         "line": {
          "color": "#636efa",
          "dash": "solid"
         },
         "marker": {
          "symbol": "circle"
         },
         "mode": "lines",
         "name": "Project Description / Purpose Total Score",
         "orientation": "v",
         "showlegend": true,
         "type": "scatter",
         "x": [
          "input1",
          "input2",
          "input3",
          "input4",
          "input5",
          "input6",
          "input7",
          "input8",
          "input9",
          "input10",
          "input11",
          "input12",
          "input14",
          "input15",
          "input16"
         ],
         "xaxis": "x",
         "y": [
          12,
          17,
          12,
          12,
          10,
          17,
          12,
          17,
          12,
          12,
          12,
          15,
          10,
          12,
          12
         ],
         "yaxis": "y"
        },
        {
         "hovertemplate": "Score Type=Project Overview Total Score<br>File Name=%{x}<br>Score=%{y}<extra></extra>",
         "legendgroup": "Project Overview Total Score",
         "line": {
          "color": "#EF553B",
          "dash": "solid"
         },
         "marker": {
          "symbol": "circle"
         },
         "mode": "lines",
         "name": "Project Overview Total Score",
         "orientation": "v",
         "showlegend": true,
         "type": "scatter",
         "x": [
          "input1",
          "input2",
          "input3",
          "input4",
          "input5",
          "input6",
          "input7",
          "input8",
          "input9",
          "input10",
          "input11",
          "input12",
          "input14",
          "input15",
          "input16"
         ],
         "xaxis": "x",
         "y": [
          21,
          22,
          19,
          19,
          21,
          21,
          24,
          21,
          21,
          24,
          17,
          23,
          23,
          21,
          25
         ],
         "yaxis": "y"
        },
        {
         "hovertemplate": "Score Type=Timeline Total Score<br>File Name=%{x}<br>Score=%{y}<extra></extra>",
         "legendgroup": "Timeline Total Score",
         "line": {
          "color": "#00cc96",
          "dash": "solid"
         },
         "marker": {
          "symbol": "circle"
         },
         "mode": "lines",
         "name": "Timeline Total Score",
         "orientation": "v",
         "showlegend": true,
         "type": "scatter",
         "x": [
          "input1",
          "input2",
          "input3",
          "input4",
          "input5",
          "input6",
          "input7",
          "input8",
          "input9",
          "input10",
          "input11",
          "input12",
          "input14",
          "input15",
          "input16"
         ],
         "xaxis": "x",
         "y": [
          17,
          19,
          19,
          19,
          19,
          19,
          19,
          19,
          17,
          19,
          17,
          18,
          17,
          14,
          17
         ],
         "yaxis": "y"
        },
        {
         "hovertemplate": "Score Type=Project Scope Total Score<br>File Name=%{x}<br>Score=%{y}<extra></extra>",
         "legendgroup": "Project Scope Total Score",
         "line": {
          "color": "#ab63fa",
          "dash": "solid"
         },
         "marker": {
          "symbol": "circle"
         },
         "mode": "lines",
         "name": "Project Scope Total Score",
         "orientation": "v",
         "showlegend": true,
         "type": "scatter",
         "x": [
          "input1",
          "input2",
          "input3",
          "input4",
          "input5",
          "input6",
          "input7",
          "input8",
          "input9",
          "input10",
          "input11",
          "input12",
          "input14",
          "input15",
          "input16"
         ],
         "xaxis": "x",
         "y": [
          8,
          10,
          8,
          8,
          14,
          14,
          8,
          15,
          15,
          14,
          8,
          15,
          8,
          0,
          8
         ],
         "yaxis": "y"
        },
        {
         "hovertemplate": "Score Type=Project Team Total Score<br>File Name=%{x}<br>Score=%{y}<extra></extra>",
         "legendgroup": "Project Team Total Score",
         "line": {
          "color": "#FFA15A",
          "dash": "solid"
         },
         "marker": {
          "symbol": "circle"
         },
         "mode": "lines",
         "name": "Project Team Total Score",
         "orientation": "v",
         "showlegend": true,
         "type": "scatter",
         "x": [
          "input1",
          "input2",
          "input3",
          "input4",
          "input5",
          "input6",
          "input7",
          "input8",
          "input9",
          "input10",
          "input11",
          "input12",
          "input14",
          "input15",
          "input16"
         ],
         "xaxis": "x",
         "y": [
          9,
          6,
          8,
          8,
          9,
          9,
          9,
          9,
          9,
          9,
          7,
          7,
          6,
          6,
          7
         ],
         "yaxis": "y"
        }
       ],
       "layout": {
        "legend": {
         "title": {
          "text": "Score Type"
         },
         "tracegroupgap": 0
        },
        "template": {
         "data": {
          "bar": [
           {
            "error_x": {
             "color": "#2a3f5f"
            },
            "error_y": {
             "color": "#2a3f5f"
            },
            "marker": {
             "line": {
              "color": "#E5ECF6",
              "width": 0.5
             },
             "pattern": {
              "fillmode": "overlay",
              "size": 10,
              "solidity": 0.2
             }
            },
            "type": "bar"
           }
          ],
          "barpolar": [
           {
            "marker": {
             "line": {
              "color": "#E5ECF6",
              "width": 0.5
             },
             "pattern": {
              "fillmode": "overlay",
              "size": 10,
              "solidity": 0.2
             }
            },
            "type": "barpolar"
           }
          ],
          "carpet": [
           {
            "aaxis": {
             "endlinecolor": "#2a3f5f",
             "gridcolor": "white",
             "linecolor": "white",
             "minorgridcolor": "white",
             "startlinecolor": "#2a3f5f"
            },
            "baxis": {
             "endlinecolor": "#2a3f5f",
             "gridcolor": "white",
             "linecolor": "white",
             "minorgridcolor": "white",
             "startlinecolor": "#2a3f5f"
            },
            "type": "carpet"
           }
          ],
          "choropleth": [
           {
            "colorbar": {
             "outlinewidth": 0,
             "ticks": ""
            },
            "type": "choropleth"
           }
          ],
          "contour": [
           {
            "colorbar": {
             "outlinewidth": 0,
             "ticks": ""
            },
            "colorscale": [
             [
              0,
              "#0d0887"
             ],
             [
              0.1111111111111111,
              "#46039f"
             ],
             [
              0.2222222222222222,
              "#7201a8"
             ],
             [
              0.3333333333333333,
              "#9c179e"
             ],
             [
              0.4444444444444444,
              "#bd3786"
             ],
             [
              0.5555555555555556,
              "#d8576b"
             ],
             [
              0.6666666666666666,
              "#ed7953"
             ],
             [
              0.7777777777777778,
              "#fb9f3a"
             ],
             [
              0.8888888888888888,
              "#fdca26"
             ],
             [
              1,
              "#f0f921"
             ]
            ],
            "type": "contour"
           }
          ],
          "contourcarpet": [
           {
            "colorbar": {
             "outlinewidth": 0,
             "ticks": ""
            },
            "type": "contourcarpet"
           }
          ],
          "heatmap": [
           {
            "colorbar": {
             "outlinewidth": 0,
             "ticks": ""
            },
            "colorscale": [
             [
              0,
              "#0d0887"
             ],
             [
              0.1111111111111111,
              "#46039f"
             ],
             [
              0.2222222222222222,
              "#7201a8"
             ],
             [
              0.3333333333333333,
              "#9c179e"
             ],
             [
              0.4444444444444444,
              "#bd3786"
             ],
             [
              0.5555555555555556,
              "#d8576b"
             ],
             [
              0.6666666666666666,
              "#ed7953"
             ],
             [
              0.7777777777777778,
              "#fb9f3a"
             ],
             [
              0.8888888888888888,
              "#fdca26"
             ],
             [
              1,
              "#f0f921"
             ]
            ],
            "type": "heatmap"
           }
          ],
          "heatmapgl": [
           {
            "colorbar": {
             "outlinewidth": 0,
             "ticks": ""
            },
            "colorscale": [
             [
              0,
              "#0d0887"
             ],
             [
              0.1111111111111111,
              "#46039f"
             ],
             [
              0.2222222222222222,
              "#7201a8"
             ],
             [
              0.3333333333333333,
              "#9c179e"
             ],
             [
              0.4444444444444444,
              "#bd3786"
             ],
             [
              0.5555555555555556,
              "#d8576b"
             ],
             [
              0.6666666666666666,
              "#ed7953"
             ],
             [
              0.7777777777777778,
              "#fb9f3a"
             ],
             [
              0.8888888888888888,
              "#fdca26"
             ],
             [
              1,
              "#f0f921"
             ]
            ],
            "type": "heatmapgl"
           }
          ],
          "histogram": [
           {
            "marker": {
             "pattern": {
              "fillmode": "overlay",
              "size": 10,
              "solidity": 0.2
             }
            },
            "type": "histogram"
           }
          ],
          "histogram2d": [
           {
            "colorbar": {
             "outlinewidth": 0,
             "ticks": ""
            },
            "colorscale": [
             [
              0,
              "#0d0887"
             ],
             [
              0.1111111111111111,
              "#46039f"
             ],
             [
              0.2222222222222222,
              "#7201a8"
             ],
             [
              0.3333333333333333,
              "#9c179e"
             ],
             [
              0.4444444444444444,
              "#bd3786"
             ],
             [
              0.5555555555555556,
              "#d8576b"
             ],
             [
              0.6666666666666666,
              "#ed7953"
             ],
             [
              0.7777777777777778,
              "#fb9f3a"
             ],
             [
              0.8888888888888888,
              "#fdca26"
             ],
             [
              1,
              "#f0f921"
             ]
            ],
            "type": "histogram2d"
           }
          ],
          "histogram2dcontour": [
           {
            "colorbar": {
             "outlinewidth": 0,
             "ticks": ""
            },
            "colorscale": [
             [
              0,
              "#0d0887"
             ],
             [
              0.1111111111111111,
              "#46039f"
             ],
             [
              0.2222222222222222,
              "#7201a8"
             ],
             [
              0.3333333333333333,
              "#9c179e"
             ],
             [
              0.4444444444444444,
              "#bd3786"
             ],
             [
              0.5555555555555556,
              "#d8576b"
             ],
             [
              0.6666666666666666,
              "#ed7953"
             ],
             [
              0.7777777777777778,
              "#fb9f3a"
             ],
             [
              0.8888888888888888,
              "#fdca26"
             ],
             [
              1,
              "#f0f921"
             ]
            ],
            "type": "histogram2dcontour"
           }
          ],
          "mesh3d": [
           {
            "colorbar": {
             "outlinewidth": 0,
             "ticks": ""
            },
            "type": "mesh3d"
           }
          ],
          "parcoords": [
           {
            "line": {
             "colorbar": {
              "outlinewidth": 0,
              "ticks": ""
             }
            },
            "type": "parcoords"
           }
          ],
          "pie": [
           {
            "automargin": true,
            "type": "pie"
           }
          ],
          "scatter": [
           {
            "fillpattern": {
             "fillmode": "overlay",
             "size": 10,
             "solidity": 0.2
            },
            "type": "scatter"
           }
          ],
          "scatter3d": [
           {
            "line": {
             "colorbar": {
              "outlinewidth": 0,
              "ticks": ""
             }
            },
            "marker": {
             "colorbar": {
              "outlinewidth": 0,
              "ticks": ""
             }
            },
            "type": "scatter3d"
           }
          ],
          "scattercarpet": [
           {
            "marker": {
             "colorbar": {
              "outlinewidth": 0,
              "ticks": ""
             }
            },
            "type": "scattercarpet"
           }
          ],
          "scattergeo": [
           {
            "marker": {
             "colorbar": {
              "outlinewidth": 0,
              "ticks": ""
             }
            },
            "type": "scattergeo"
           }
          ],
          "scattergl": [
           {
            "marker": {
             "colorbar": {
              "outlinewidth": 0,
              "ticks": ""
             }
            },
            "type": "scattergl"
           }
          ],
          "scattermapbox": [
           {
            "marker": {
             "colorbar": {
              "outlinewidth": 0,
              "ticks": ""
             }
            },
            "type": "scattermapbox"
           }
          ],
          "scatterpolar": [
           {
            "marker": {
             "colorbar": {
              "outlinewidth": 0,
              "ticks": ""
             }
            },
            "type": "scatterpolar"
           }
          ],
          "scatterpolargl": [
           {
            "marker": {
             "colorbar": {
              "outlinewidth": 0,
              "ticks": ""
             }
            },
            "type": "scatterpolargl"
           }
          ],
          "scatterternary": [
           {
            "marker": {
             "colorbar": {
              "outlinewidth": 0,
              "ticks": ""
             }
            },
            "type": "scatterternary"
           }
          ],
          "surface": [
           {
            "colorbar": {
             "outlinewidth": 0,
             "ticks": ""
            },
            "colorscale": [
             [
              0,
              "#0d0887"
             ],
             [
              0.1111111111111111,
              "#46039f"
             ],
             [
              0.2222222222222222,
              "#7201a8"
             ],
             [
              0.3333333333333333,
              "#9c179e"
             ],
             [
              0.4444444444444444,
              "#bd3786"
             ],
             [
              0.5555555555555556,
              "#d8576b"
             ],
             [
              0.6666666666666666,
              "#ed7953"
             ],
             [
              0.7777777777777778,
              "#fb9f3a"
             ],
             [
              0.8888888888888888,
              "#fdca26"
             ],
             [
              1,
              "#f0f921"
             ]
            ],
            "type": "surface"
           }
          ],
          "table": [
           {
            "cells": {
             "fill": {
              "color": "#EBF0F8"
             },
             "line": {
              "color": "white"
             }
            },
            "header": {
             "fill": {
              "color": "#C8D4E3"
             },
             "line": {
              "color": "white"
             }
            },
            "type": "table"
           }
          ]
         },
         "layout": {
          "annotationdefaults": {
           "arrowcolor": "#2a3f5f",
           "arrowhead": 0,
           "arrowwidth": 1
          },
          "autotypenumbers": "strict",
          "coloraxis": {
           "colorbar": {
            "outlinewidth": 0,
            "ticks": ""
           }
          },
          "colorscale": {
           "diverging": [
            [
             0,
             "#8e0152"
            ],
            [
             0.1,
             "#c51b7d"
            ],
            [
             0.2,
             "#de77ae"
            ],
            [
             0.3,
             "#f1b6da"
            ],
            [
             0.4,
             "#fde0ef"
            ],
            [
             0.5,
             "#f7f7f7"
            ],
            [
             0.6,
             "#e6f5d0"
            ],
            [
             0.7,
             "#b8e186"
            ],
            [
             0.8,
             "#7fbc41"
            ],
            [
             0.9,
             "#4d9221"
            ],
            [
             1,
             "#276419"
            ]
           ],
           "sequential": [
            [
             0,
             "#0d0887"
            ],
            [
             0.1111111111111111,
             "#46039f"
            ],
            [
             0.2222222222222222,
             "#7201a8"
            ],
            [
             0.3333333333333333,
             "#9c179e"
            ],
            [
             0.4444444444444444,
             "#bd3786"
            ],
            [
             0.5555555555555556,
             "#d8576b"
            ],
            [
             0.6666666666666666,
             "#ed7953"
            ],
            [
             0.7777777777777778,
             "#fb9f3a"
            ],
            [
             0.8888888888888888,
             "#fdca26"
            ],
            [
             1,
             "#f0f921"
            ]
           ],
           "sequentialminus": [
            [
             0,
             "#0d0887"
            ],
            [
             0.1111111111111111,
             "#46039f"
            ],
            [
             0.2222222222222222,
             "#7201a8"
            ],
            [
             0.3333333333333333,
             "#9c179e"
            ],
            [
             0.4444444444444444,
             "#bd3786"
            ],
            [
             0.5555555555555556,
             "#d8576b"
            ],
            [
             0.6666666666666666,
             "#ed7953"
            ],
            [
             0.7777777777777778,
             "#fb9f3a"
            ],
            [
             0.8888888888888888,
             "#fdca26"
            ],
            [
             1,
             "#f0f921"
            ]
           ]
          },
          "colorway": [
           "#636efa",
           "#EF553B",
           "#00cc96",
           "#ab63fa",
           "#FFA15A",
           "#19d3f3",
           "#FF6692",
           "#B6E880",
           "#FF97FF",
           "#FECB52"
          ],
          "font": {
           "color": "#2a3f5f"
          },
          "geo": {
           "bgcolor": "white",
           "lakecolor": "white",
           "landcolor": "#E5ECF6",
           "showlakes": true,
           "showland": true,
           "subunitcolor": "white"
          },
          "hoverlabel": {
           "align": "left"
          },
          "hovermode": "closest",
          "mapbox": {
           "style": "light"
          },
          "paper_bgcolor": "white",
          "plot_bgcolor": "#E5ECF6",
          "polar": {
           "angularaxis": {
            "gridcolor": "white",
            "linecolor": "white",
            "ticks": ""
           },
           "bgcolor": "#E5ECF6",
           "radialaxis": {
            "gridcolor": "white",
            "linecolor": "white",
            "ticks": ""
           }
          },
          "scene": {
           "xaxis": {
            "backgroundcolor": "#E5ECF6",
            "gridcolor": "white",
            "gridwidth": 2,
            "linecolor": "white",
            "showbackground": true,
            "ticks": "",
            "zerolinecolor": "white"
           },
           "yaxis": {
            "backgroundcolor": "#E5ECF6",
            "gridcolor": "white",
            "gridwidth": 2,
            "linecolor": "white",
            "showbackground": true,
            "ticks": "",
            "zerolinecolor": "white"
           },
           "zaxis": {
            "backgroundcolor": "#E5ECF6",
            "gridcolor": "white",
            "gridwidth": 2,
            "linecolor": "white",
            "showbackground": true,
            "ticks": "",
            "zerolinecolor": "white"
           }
          },
          "shapedefaults": {
           "line": {
            "color": "#2a3f5f"
           }
          },
          "ternary": {
           "aaxis": {
            "gridcolor": "white",
            "linecolor": "white",
            "ticks": ""
           },
           "baxis": {
            "gridcolor": "white",
            "linecolor": "white",
            "ticks": ""
           },
           "bgcolor": "#E5ECF6",
           "caxis": {
            "gridcolor": "white",
            "linecolor": "white",
            "ticks": ""
           }
          },
          "title": {
           "x": 0.05
          },
          "xaxis": {
           "automargin": true,
           "gridcolor": "white",
           "linecolor": "white",
           "ticks": "",
           "title": {
            "standoff": 15
           },
           "zerolinecolor": "white",
           "zerolinewidth": 2
          },
          "yaxis": {
           "automargin": true,
           "gridcolor": "white",
           "linecolor": "white",
           "ticks": "",
           "title": {
            "standoff": 15
           },
           "zerolinecolor": "white",
           "zerolinewidth": 2
          }
         }
        },
        "title": {
         "text": "Score Columns Visualization"
        },
        "xaxis": {
         "anchor": "y",
         "domain": [
          0,
          1
         ],
         "title": {
          "text": "File Name"
         }
        },
        "yaxis": {
         "anchor": "x",
         "domain": [
          0,
          1
         ],
         "title": {
          "text": "Score"
         }
        }
       }
      }
     },
     "metadata": {},
     "output_type": "display_data"
    }
   ],
   "source": [
    "# Select the score columns\n",
    "score_columns = [col for col in result_df.columns if ('score' in col.lower() and 'document' not in col.lower())]  # Add more columns if needed\n",
    "\n",
    "# Plot the score columns\n",
    "temp = result_df.copy()\n",
    "melted_df = temp.melt(id_vars=['File Name'], value_vars=score_columns, var_name='Score Type', value_name='Score')\n",
    "\n",
    "# Create the plot\n",
    "fig = px.line(melted_df, x='File Name', y='Score', color='Score Type', title='Score Columns Visualization')\n",
    "\n",
    "# Show the plot\n",
    "fig.show()"
   ]
  },
  {
   "cell_type": "markdown",
   "metadata": {},
   "source": [
    "# Format df to visualize performance"
   ]
  },
  {
   "cell_type": "code",
   "execution_count": 21,
   "metadata": {},
   "outputs": [
    {
     "data": {
      "text/html": [
       "<div>\n",
       "<style scoped>\n",
       "    .dataframe tbody tr th:only-of-type {\n",
       "        vertical-align: middle;\n",
       "    }\n",
       "\n",
       "    .dataframe tbody tr th {\n",
       "        vertical-align: top;\n",
       "    }\n",
       "\n",
       "    .dataframe thead th {\n",
       "        text-align: right;\n",
       "    }\n",
       "</style>\n",
       "<table border=\"1\" class=\"dataframe\">\n",
       "  <thead>\n",
       "    <tr style=\"text-align: right;\">\n",
       "      <th></th>\n",
       "      <th>Project Description / Purpose Total Score</th>\n",
       "      <th>Project Overview Total Score</th>\n",
       "      <th>Timeline Total Score</th>\n",
       "      <th>Project Scope Total Score</th>\n",
       "      <th>Project Team Total Score</th>\n",
       "      <th>File Name</th>\n",
       "    </tr>\n",
       "  </thead>\n",
       "  <tbody>\n",
       "    <tr>\n",
       "      <th>0</th>\n",
       "      <td>12.0</td>\n",
       "      <td>21.0</td>\n",
       "      <td>17.0</td>\n",
       "      <td>8.0</td>\n",
       "      <td>9.0</td>\n",
       "      <td>input1</td>\n",
       "    </tr>\n",
       "    <tr>\n",
       "      <th>1</th>\n",
       "      <td>17.0</td>\n",
       "      <td>22.0</td>\n",
       "      <td>19.0</td>\n",
       "      <td>10.0</td>\n",
       "      <td>6.0</td>\n",
       "      <td>input2</td>\n",
       "    </tr>\n",
       "    <tr>\n",
       "      <th>2</th>\n",
       "      <td>12.0</td>\n",
       "      <td>19.0</td>\n",
       "      <td>19.0</td>\n",
       "      <td>8.0</td>\n",
       "      <td>8.0</td>\n",
       "      <td>input3</td>\n",
       "    </tr>\n",
       "    <tr>\n",
       "      <th>3</th>\n",
       "      <td>12.0</td>\n",
       "      <td>19.0</td>\n",
       "      <td>19.0</td>\n",
       "      <td>8.0</td>\n",
       "      <td>8.0</td>\n",
       "      <td>input4</td>\n",
       "    </tr>\n",
       "    <tr>\n",
       "      <th>4</th>\n",
       "      <td>10.0</td>\n",
       "      <td>21.0</td>\n",
       "      <td>19.0</td>\n",
       "      <td>14.0</td>\n",
       "      <td>9.0</td>\n",
       "      <td>input5</td>\n",
       "    </tr>\n",
       "    <tr>\n",
       "      <th>5</th>\n",
       "      <td>17.0</td>\n",
       "      <td>21.0</td>\n",
       "      <td>19.0</td>\n",
       "      <td>14.0</td>\n",
       "      <td>9.0</td>\n",
       "      <td>input6</td>\n",
       "    </tr>\n",
       "    <tr>\n",
       "      <th>6</th>\n",
       "      <td>12.0</td>\n",
       "      <td>24.0</td>\n",
       "      <td>19.0</td>\n",
       "      <td>8.0</td>\n",
       "      <td>9.0</td>\n",
       "      <td>input7</td>\n",
       "    </tr>\n",
       "    <tr>\n",
       "      <th>7</th>\n",
       "      <td>17.0</td>\n",
       "      <td>21.0</td>\n",
       "      <td>19.0</td>\n",
       "      <td>15.0</td>\n",
       "      <td>9.0</td>\n",
       "      <td>input8</td>\n",
       "    </tr>\n",
       "    <tr>\n",
       "      <th>8</th>\n",
       "      <td>12.0</td>\n",
       "      <td>21.0</td>\n",
       "      <td>17.0</td>\n",
       "      <td>15.0</td>\n",
       "      <td>9.0</td>\n",
       "      <td>input9</td>\n",
       "    </tr>\n",
       "    <tr>\n",
       "      <th>9</th>\n",
       "      <td>12.0</td>\n",
       "      <td>24.0</td>\n",
       "      <td>19.0</td>\n",
       "      <td>14.0</td>\n",
       "      <td>9.0</td>\n",
       "      <td>input10</td>\n",
       "    </tr>\n",
       "    <tr>\n",
       "      <th>10</th>\n",
       "      <td>12.0</td>\n",
       "      <td>17.0</td>\n",
       "      <td>17.0</td>\n",
       "      <td>8.0</td>\n",
       "      <td>7.0</td>\n",
       "      <td>input11</td>\n",
       "    </tr>\n",
       "    <tr>\n",
       "      <th>11</th>\n",
       "      <td>15.0</td>\n",
       "      <td>23.0</td>\n",
       "      <td>18.0</td>\n",
       "      <td>15.0</td>\n",
       "      <td>7.0</td>\n",
       "      <td>input12</td>\n",
       "    </tr>\n",
       "    <tr>\n",
       "      <th>13</th>\n",
       "      <td>10.0</td>\n",
       "      <td>23.0</td>\n",
       "      <td>17.0</td>\n",
       "      <td>8.0</td>\n",
       "      <td>6.0</td>\n",
       "      <td>input14</td>\n",
       "    </tr>\n",
       "    <tr>\n",
       "      <th>14</th>\n",
       "      <td>12.0</td>\n",
       "      <td>21.0</td>\n",
       "      <td>14.0</td>\n",
       "      <td>0.0</td>\n",
       "      <td>6.0</td>\n",
       "      <td>input15</td>\n",
       "    </tr>\n",
       "    <tr>\n",
       "      <th>15</th>\n",
       "      <td>12.0</td>\n",
       "      <td>25.0</td>\n",
       "      <td>17.0</td>\n",
       "      <td>8.0</td>\n",
       "      <td>7.0</td>\n",
       "      <td>input16</td>\n",
       "    </tr>\n",
       "  </tbody>\n",
       "</table>\n",
       "</div>"
      ],
      "text/plain": [
       "    Project Description / Purpose Total Score  Project Overview Total Score  \\\n",
       "0                                        12.0                          21.0   \n",
       "1                                        17.0                          22.0   \n",
       "2                                        12.0                          19.0   \n",
       "3                                        12.0                          19.0   \n",
       "4                                        10.0                          21.0   \n",
       "5                                        17.0                          21.0   \n",
       "6                                        12.0                          24.0   \n",
       "7                                        17.0                          21.0   \n",
       "8                                        12.0                          21.0   \n",
       "9                                        12.0                          24.0   \n",
       "10                                       12.0                          17.0   \n",
       "11                                       15.0                          23.0   \n",
       "13                                       10.0                          23.0   \n",
       "14                                       12.0                          21.0   \n",
       "15                                       12.0                          25.0   \n",
       "\n",
       "    Timeline Total Score  Project Scope Total Score  Project Team Total Score  \\\n",
       "0                   17.0                        8.0                       9.0   \n",
       "1                   19.0                       10.0                       6.0   \n",
       "2                   19.0                        8.0                       8.0   \n",
       "3                   19.0                        8.0                       8.0   \n",
       "4                   19.0                       14.0                       9.0   \n",
       "5                   19.0                       14.0                       9.0   \n",
       "6                   19.0                        8.0                       9.0   \n",
       "7                   19.0                       15.0                       9.0   \n",
       "8                   17.0                       15.0                       9.0   \n",
       "9                   19.0                       14.0                       9.0   \n",
       "10                  17.0                        8.0                       7.0   \n",
       "11                  18.0                       15.0                       7.0   \n",
       "13                  17.0                        8.0                       6.0   \n",
       "14                  14.0                        0.0                       6.0   \n",
       "15                  17.0                        8.0                       7.0   \n",
       "\n",
       "   File Name  \n",
       "0     input1  \n",
       "1     input2  \n",
       "2     input3  \n",
       "3     input4  \n",
       "4     input5  \n",
       "5     input6  \n",
       "6     input7  \n",
       "7     input8  \n",
       "8     input9  \n",
       "9    input10  \n",
       "10   input11  \n",
       "11   input12  \n",
       "13   input14  \n",
       "14   input15  \n",
       "15   input16  "
      ]
     },
     "execution_count": 21,
     "metadata": {},
     "output_type": "execute_result"
    }
   ],
   "source": [
    "keep_cols = [col for col in result_df.columns if ('score' in col.lower() and 'document' not in col.lower())]\n",
    "keep_cols.append('File Name')\n",
    "score_result_df = result_df[keep_cols]\n",
    "score_result_df"
   ]
  },
  {
   "cell_type": "code",
   "execution_count": 56,
   "metadata": {},
   "outputs": [
    {
     "data": {
      "text/html": [
       "<div>\n",
       "<style scoped>\n",
       "    .dataframe tbody tr th:only-of-type {\n",
       "        vertical-align: middle;\n",
       "    }\n",
       "\n",
       "    .dataframe tbody tr th {\n",
       "        vertical-align: top;\n",
       "    }\n",
       "\n",
       "    .dataframe thead th {\n",
       "        text-align: right;\n",
       "    }\n",
       "</style>\n",
       "<table border=\"1\" class=\"dataframe\">\n",
       "  <thead>\n",
       "    <tr style=\"text-align: right;\">\n",
       "      <th></th>\n",
       "      <th>File Name</th>\n",
       "      <th>section</th>\n",
       "      <th>section_score</th>\n",
       "    </tr>\n",
       "  </thead>\n",
       "  <tbody>\n",
       "    <tr>\n",
       "      <th>0</th>\n",
       "      <td>input1</td>\n",
       "      <td>Project Description / Purpose</td>\n",
       "      <td>1</td>\n",
       "    </tr>\n",
       "    <tr>\n",
       "      <th>1</th>\n",
       "      <td>input1</td>\n",
       "      <td>Project Scope</td>\n",
       "      <td>1</td>\n",
       "    </tr>\n",
       "    <tr>\n",
       "      <th>2</th>\n",
       "      <td>input1</td>\n",
       "      <td>Timeline</td>\n",
       "      <td>1</td>\n",
       "    </tr>\n",
       "    <tr>\n",
       "      <th>3</th>\n",
       "      <td>input1</td>\n",
       "      <td>Project Team</td>\n",
       "      <td>1</td>\n",
       "    </tr>\n",
       "    <tr>\n",
       "      <th>4</th>\n",
       "      <td>input1</td>\n",
       "      <td>Project Overview</td>\n",
       "      <td>1</td>\n",
       "    </tr>\n",
       "    <tr>\n",
       "      <th>...</th>\n",
       "      <td>...</td>\n",
       "      <td>...</td>\n",
       "      <td>...</td>\n",
       "    </tr>\n",
       "    <tr>\n",
       "      <th>70</th>\n",
       "      <td>input9</td>\n",
       "      <td>Project Description / Purpose</td>\n",
       "      <td>1</td>\n",
       "    </tr>\n",
       "    <tr>\n",
       "      <th>71</th>\n",
       "      <td>input9</td>\n",
       "      <td>Project Team</td>\n",
       "      <td>1</td>\n",
       "    </tr>\n",
       "    <tr>\n",
       "      <th>72</th>\n",
       "      <td>input9</td>\n",
       "      <td>Project Overview</td>\n",
       "      <td>1</td>\n",
       "    </tr>\n",
       "    <tr>\n",
       "      <th>73</th>\n",
       "      <td>input9</td>\n",
       "      <td>Timeline</td>\n",
       "      <td>1</td>\n",
       "    </tr>\n",
       "    <tr>\n",
       "      <th>74</th>\n",
       "      <td>input9</td>\n",
       "      <td>Project Scope</td>\n",
       "      <td>1</td>\n",
       "    </tr>\n",
       "  </tbody>\n",
       "</table>\n",
       "<p>75 rows × 3 columns</p>\n",
       "</div>"
      ],
      "text/plain": [
       "   File Name                        section  section_score\n",
       "0     input1  Project Description / Purpose              1\n",
       "1     input1                  Project Scope              1\n",
       "2     input1                       Timeline              1\n",
       "3     input1                   Project Team              1\n",
       "4     input1               Project Overview              1\n",
       "..       ...                            ...            ...\n",
       "70    input9  Project Description / Purpose              1\n",
       "71    input9                   Project Team              1\n",
       "72    input9               Project Overview              1\n",
       "73    input9                       Timeline              1\n",
       "74    input9                  Project Scope              1\n",
       "\n",
       "[75 rows x 3 columns]"
      ]
     },
     "execution_count": 56,
     "metadata": {},
     "output_type": "execute_result"
    }
   ],
   "source": [
    "df_melted = score_result_df.melt(id_vars='File Name', \n",
    "                    value_vars=[col for col in score_result_df.columns if 'score' in col.lower()], \n",
    "                    var_name='section', \n",
    "                    value_name='section_score')\n",
    "df_melted = df_melted.sort_values(by='File Name').reset_index(drop=True)\n",
    "df_melted['section'] = df_melted['section'].str.replace(' Total Score', '', regex=False)\n",
    "df_melted['section_score'] = df_melted.apply(lambda row: 1 if row['section_score'] >= rubric_file[row['section']]['threshold'] else 0, axis=1)\n",
    "df_melted"
   ]
  },
  {
   "cell_type": "code",
   "execution_count": 82,
   "metadata": {},
   "outputs": [
    {
     "data": {
      "text/html": [
       "<div>\n",
       "<style scoped>\n",
       "    .dataframe tbody tr th:only-of-type {\n",
       "        vertical-align: middle;\n",
       "    }\n",
       "\n",
       "    .dataframe tbody tr th {\n",
       "        vertical-align: top;\n",
       "    }\n",
       "\n",
       "    .dataframe thead th {\n",
       "        text-align: right;\n",
       "    }\n",
       "</style>\n",
       "<table border=\"1\" class=\"dataframe\">\n",
       "  <thead>\n",
       "    <tr style=\"text-align: right;\">\n",
       "      <th></th>\n",
       "      <th>File Name</th>\n",
       "      <th>section</th>\n",
       "      <th>section_score</th>\n",
       "    </tr>\n",
       "  </thead>\n",
       "  <tbody>\n",
       "    <tr>\n",
       "      <th>0</th>\n",
       "      <td>input1</td>\n",
       "      <td>Description</td>\n",
       "      <td>1</td>\n",
       "    </tr>\n",
       "    <tr>\n",
       "      <th>1</th>\n",
       "      <td>input1</td>\n",
       "      <td>Scope</td>\n",
       "      <td>1</td>\n",
       "    </tr>\n",
       "    <tr>\n",
       "      <th>2</th>\n",
       "      <td>input1</td>\n",
       "      <td>Timeline</td>\n",
       "      <td>1</td>\n",
       "    </tr>\n",
       "    <tr>\n",
       "      <th>3</th>\n",
       "      <td>input1</td>\n",
       "      <td>Team</td>\n",
       "      <td>1</td>\n",
       "    </tr>\n",
       "    <tr>\n",
       "      <th>4</th>\n",
       "      <td>input1</td>\n",
       "      <td>Overview</td>\n",
       "      <td>1</td>\n",
       "    </tr>\n",
       "    <tr>\n",
       "      <th>...</th>\n",
       "      <td>...</td>\n",
       "      <td>...</td>\n",
       "      <td>...</td>\n",
       "    </tr>\n",
       "    <tr>\n",
       "      <th>70</th>\n",
       "      <td>input9</td>\n",
       "      <td>Description</td>\n",
       "      <td>1</td>\n",
       "    </tr>\n",
       "    <tr>\n",
       "      <th>71</th>\n",
       "      <td>input9</td>\n",
       "      <td>Team</td>\n",
       "      <td>1</td>\n",
       "    </tr>\n",
       "    <tr>\n",
       "      <th>72</th>\n",
       "      <td>input9</td>\n",
       "      <td>Overview</td>\n",
       "      <td>1</td>\n",
       "    </tr>\n",
       "    <tr>\n",
       "      <th>73</th>\n",
       "      <td>input9</td>\n",
       "      <td>Timeline</td>\n",
       "      <td>1</td>\n",
       "    </tr>\n",
       "    <tr>\n",
       "      <th>74</th>\n",
       "      <td>input9</td>\n",
       "      <td>Scope</td>\n",
       "      <td>1</td>\n",
       "    </tr>\n",
       "  </tbody>\n",
       "</table>\n",
       "<p>75 rows × 3 columns</p>\n",
       "</div>"
      ],
      "text/plain": [
       "   File Name      section  section_score\n",
       "0     input1  Description              1\n",
       "1     input1        Scope              1\n",
       "2     input1     Timeline              1\n",
       "3     input1         Team              1\n",
       "4     input1     Overview              1\n",
       "..       ...          ...            ...\n",
       "70    input9  Description              1\n",
       "71    input9         Team              1\n",
       "72    input9     Overview              1\n",
       "73    input9     Timeline              1\n",
       "74    input9        Scope              1\n",
       "\n",
       "[75 rows x 3 columns]"
      ]
     },
     "execution_count": 82,
     "metadata": {},
     "output_type": "execute_result"
    }
   ],
   "source": [
    "y_test = df_melted.copy()\n",
    "y_test['section'] = y_test['section'].replace(inv_rubric_section_map)\n",
    "y_test"
   ]
  },
  {
   "cell_type": "code",
   "execution_count": 84,
   "metadata": {},
   "outputs": [
    {
     "data": {
      "text/html": [
       "<div>\n",
       "<style scoped>\n",
       "    .dataframe tbody tr th:only-of-type {\n",
       "        vertical-align: middle;\n",
       "    }\n",
       "\n",
       "    .dataframe tbody tr th {\n",
       "        vertical-align: top;\n",
       "    }\n",
       "\n",
       "    .dataframe thead th {\n",
       "        text-align: right;\n",
       "    }\n",
       "</style>\n",
       "<table border=\"1\" class=\"dataframe\">\n",
       "  <thead>\n",
       "    <tr style=\"text-align: right;\">\n",
       "      <th></th>\n",
       "      <th>filename</th>\n",
       "      <th>Section</th>\n",
       "      <th>pass_Real</th>\n",
       "    </tr>\n",
       "  </thead>\n",
       "  <tbody>\n",
       "    <tr>\n",
       "      <th>0</th>\n",
       "      <td>input1</td>\n",
       "      <td>Description</td>\n",
       "      <td>1</td>\n",
       "    </tr>\n",
       "    <tr>\n",
       "      <th>1</th>\n",
       "      <td>input1</td>\n",
       "      <td>Overview</td>\n",
       "      <td>1</td>\n",
       "    </tr>\n",
       "    <tr>\n",
       "      <th>2</th>\n",
       "      <td>input1</td>\n",
       "      <td>Scope</td>\n",
       "      <td>1</td>\n",
       "    </tr>\n",
       "    <tr>\n",
       "      <th>3</th>\n",
       "      <td>input1</td>\n",
       "      <td>Team</td>\n",
       "      <td>1</td>\n",
       "    </tr>\n",
       "    <tr>\n",
       "      <th>4</th>\n",
       "      <td>input1</td>\n",
       "      <td>Timeline</td>\n",
       "      <td>1</td>\n",
       "    </tr>\n",
       "    <tr>\n",
       "      <th>...</th>\n",
       "      <td>...</td>\n",
       "      <td>...</td>\n",
       "      <td>...</td>\n",
       "    </tr>\n",
       "    <tr>\n",
       "      <th>70</th>\n",
       "      <td>input9</td>\n",
       "      <td>Description</td>\n",
       "      <td>0</td>\n",
       "    </tr>\n",
       "    <tr>\n",
       "      <th>71</th>\n",
       "      <td>input9</td>\n",
       "      <td>Overview</td>\n",
       "      <td>1</td>\n",
       "    </tr>\n",
       "    <tr>\n",
       "      <th>72</th>\n",
       "      <td>input9</td>\n",
       "      <td>Scope</td>\n",
       "      <td>0</td>\n",
       "    </tr>\n",
       "    <tr>\n",
       "      <th>73</th>\n",
       "      <td>input9</td>\n",
       "      <td>Team</td>\n",
       "      <td>1</td>\n",
       "    </tr>\n",
       "    <tr>\n",
       "      <th>74</th>\n",
       "      <td>input9</td>\n",
       "      <td>Timeline</td>\n",
       "      <td>0</td>\n",
       "    </tr>\n",
       "  </tbody>\n",
       "</table>\n",
       "<p>75 rows × 3 columns</p>\n",
       "</div>"
      ],
      "text/plain": [
       "   filename      Section  pass_Real\n",
       "0    input1  Description          1\n",
       "1    input1     Overview          1\n",
       "2    input1        Scope          1\n",
       "3    input1         Team          1\n",
       "4    input1     Timeline          1\n",
       "..      ...          ...        ...\n",
       "70   input9  Description          0\n",
       "71   input9     Overview          1\n",
       "72   input9        Scope          0\n",
       "73   input9         Team          1\n",
       "74   input9     Timeline          0\n",
       "\n",
       "[75 rows x 3 columns]"
      ]
     },
     "execution_count": 84,
     "metadata": {},
     "output_type": "execute_result"
    }
   ],
   "source": [
    "y_true = pd.read_csv('y_test_df.csv', index_col=0)\n",
    "# y_true['Section'] = y_true['Section'].replace(rubric_section_map)\n",
    "y_true['filename'] = y_true['filename'].str.replace('.txt', '', regex=False)\n",
    "y_true = y_true.map(lambda x: 'input1' if x == \"input\" else x)\n",
    "y_true"
   ]
  },
  {
   "cell_type": "code",
   "execution_count": 86,
   "metadata": {},
   "outputs": [
    {
     "data": {
      "text/html": [
       "<div>\n",
       "<style scoped>\n",
       "    .dataframe tbody tr th:only-of-type {\n",
       "        vertical-align: middle;\n",
       "    }\n",
       "\n",
       "    .dataframe tbody tr th {\n",
       "        vertical-align: top;\n",
       "    }\n",
       "\n",
       "    .dataframe thead th {\n",
       "        text-align: right;\n",
       "    }\n",
       "</style>\n",
       "<table border=\"1\" class=\"dataframe\">\n",
       "  <thead>\n",
       "    <tr style=\"text-align: right;\">\n",
       "      <th></th>\n",
       "      <th>filename</th>\n",
       "      <th>Section</th>\n",
       "      <th>pass_AI</th>\n",
       "      <th>pass_Real</th>\n",
       "    </tr>\n",
       "  </thead>\n",
       "  <tbody>\n",
       "    <tr>\n",
       "      <th>0</th>\n",
       "      <td>input1</td>\n",
       "      <td>Description</td>\n",
       "      <td>1</td>\n",
       "      <td>1</td>\n",
       "    </tr>\n",
       "    <tr>\n",
       "      <th>1</th>\n",
       "      <td>input1</td>\n",
       "      <td>Overview</td>\n",
       "      <td>1</td>\n",
       "      <td>1</td>\n",
       "    </tr>\n",
       "    <tr>\n",
       "      <th>2</th>\n",
       "      <td>input1</td>\n",
       "      <td>Scope</td>\n",
       "      <td>1</td>\n",
       "      <td>1</td>\n",
       "    </tr>\n",
       "    <tr>\n",
       "      <th>3</th>\n",
       "      <td>input1</td>\n",
       "      <td>Team</td>\n",
       "      <td>1</td>\n",
       "      <td>1</td>\n",
       "    </tr>\n",
       "    <tr>\n",
       "      <th>4</th>\n",
       "      <td>input1</td>\n",
       "      <td>Timeline</td>\n",
       "      <td>1</td>\n",
       "      <td>1</td>\n",
       "    </tr>\n",
       "    <tr>\n",
       "      <th>...</th>\n",
       "      <td>...</td>\n",
       "      <td>...</td>\n",
       "      <td>...</td>\n",
       "      <td>...</td>\n",
       "    </tr>\n",
       "    <tr>\n",
       "      <th>70</th>\n",
       "      <td>input9</td>\n",
       "      <td>Description</td>\n",
       "      <td>1</td>\n",
       "      <td>0</td>\n",
       "    </tr>\n",
       "    <tr>\n",
       "      <th>71</th>\n",
       "      <td>input9</td>\n",
       "      <td>Overview</td>\n",
       "      <td>1</td>\n",
       "      <td>1</td>\n",
       "    </tr>\n",
       "    <tr>\n",
       "      <th>72</th>\n",
       "      <td>input9</td>\n",
       "      <td>Scope</td>\n",
       "      <td>1</td>\n",
       "      <td>0</td>\n",
       "    </tr>\n",
       "    <tr>\n",
       "      <th>73</th>\n",
       "      <td>input9</td>\n",
       "      <td>Team</td>\n",
       "      <td>1</td>\n",
       "      <td>1</td>\n",
       "    </tr>\n",
       "    <tr>\n",
       "      <th>74</th>\n",
       "      <td>input9</td>\n",
       "      <td>Timeline</td>\n",
       "      <td>1</td>\n",
       "      <td>0</td>\n",
       "    </tr>\n",
       "  </tbody>\n",
       "</table>\n",
       "<p>75 rows × 4 columns</p>\n",
       "</div>"
      ],
      "text/plain": [
       "   filename      Section  pass_AI  pass_Real\n",
       "0    input1  Description        1          1\n",
       "1    input1     Overview        1          1\n",
       "2    input1        Scope        1          1\n",
       "3    input1         Team        1          1\n",
       "4    input1     Timeline        1          1\n",
       "..      ...          ...      ...        ...\n",
       "70   input9  Description        1          0\n",
       "71   input9     Overview        1          1\n",
       "72   input9        Scope        1          0\n",
       "73   input9         Team        1          1\n",
       "74   input9     Timeline        1          0\n",
       "\n",
       "[75 rows x 4 columns]"
      ]
     },
     "execution_count": 86,
     "metadata": {},
     "output_type": "execute_result"
    }
   ],
   "source": [
    "merged_df = pd.merge(y_true, y_test, left_on=['filename', 'Section'], right_on=['File Name', 'section'])\n",
    "merged_df = merged_df.drop(columns=['File Name', 'section'])\n",
    "merged_df = merged_df.rename(columns={\n",
    "    'filename': 'filename',\n",
    "    'section_score': 'pass_AI',\n",
    "    'Section': 'Section',\n",
    "    'pass_Real': 'pass_Real'\n",
    "})\n",
    "merged_df = merged_df[['filename', 'Section', 'pass_AI', 'pass_Real']]\n",
    "merged_df"
   ]
  },
  {
   "cell_type": "markdown",
   "metadata": {},
   "source": [
    "# Visualize performance"
   ]
  },
  {
   "cell_type": "code",
   "execution_count": 79,
   "metadata": {},
   "outputs": [],
   "source": [
    "from visualizeResult import ModelResultAnalyzer"
   ]
  },
  {
   "cell_type": "code",
   "execution_count": 87,
   "metadata": {},
   "outputs": [
    {
     "name": "stdout",
     "output_type": "stream",
     "text": [
      "Accuracy: 0.72\n",
      "Precision: 0.70\n",
      "Recall: 0.98\n",
      "F1 score: 0.81\n",
      "[[ 8 20]\n",
      " [ 1 46]]\n"
     ]
    },
    {
     "data": {
      "image/png": "[encoded data removed]",
      "text/plain": [
       "<Figure size 640x480 with 2 Axes>"
      ]
     },
     "metadata": {},
     "output_type": "display_data"
    },
    {
     "name": "stdout",
     "output_type": "stream",
     "text": [
      "There are 15 Descriptions in 15 submissions\n",
      "9 Description failed\n",
      "6 Description passed\n",
      "Accuracy: 0.40\n",
      "Precision: 0.38\n",
      "Recall: 0.83\n",
      "F1 score: 0.53\n"
     ]
    },
    {
     "data": {
      "image/png": "[encoded data removed]",
      "text/plain": [
       "<Figure size 640x480 with 2 Axes>"
      ]
     },
     "metadata": {},
     "output_type": "display_data"
    },
    {
     "name": "stdout",
     "output_type": "stream",
     "text": [
      "There are 15 Overviews in 15 submissions\n",
      "4 Overview failed\n",
      "11 Overview passed\n",
      "Accuracy: 0.73\n",
      "Precision: 0.73\n",
      "Recall: 1.00\n",
      "F1 score: 0.85\n"
     ]
    },
    {
     "data": {
      "image/png": "[encoded data removed]",
      "text/plain": [
       "<Figure size 640x480 with 2 Axes>"
      ]
     },
     "metadata": {},
     "output_type": "display_data"
    },
    {
     "name": "stdout",
     "output_type": "stream",
     "text": [
      "There are 15 Scopes in 15 submissions\n",
      "4 Scope failed\n",
      "11 Scope passed\n",
      "Accuracy: 0.80\n",
      "Precision: 0.79\n",
      "Recall: 1.00\n",
      "F1 score: 0.88\n"
     ]
    },
    {
     "data": {
      "image/png": "[encoded data removed]",
      "text/plain": [
       "<Figure size 640x480 with 2 Axes>"
      ]
     },
     "metadata": {},
     "output_type": "display_data"
    },
    {
     "name": "stdout",
     "output_type": "stream",
     "text": [
      "There are 15 Teams in 15 submissions\n",
      "6 Team failed\n",
      "9 Team passed\n",
      "Accuracy: 1.00\n",
      "Precision: 1.00\n",
      "Recall: 1.00\n",
      "F1 score: 1.00\n"
     ]
    },
    {
     "data": {
      "image/png": "[encoded data removed]",
      "text/plain": [
       "<Figure size 640x480 with 2 Axes>"
      ]
     },
     "metadata": {},
     "output_type": "display_data"
    },
    {
     "name": "stdout",
     "output_type": "stream",
     "text": [
      "There are 15 Timelines in 15 submissions\n",
      "5 Timeline failed\n",
      "10 Timeline passed\n",
      "Accuracy: 0.67\n",
      "Precision: 0.67\n",
      "Recall: 1.00\n",
      "F1 score: 0.80\n"
     ]
    },
    {
     "data": {
      "image/png": "[encoded data removed]",
      "text/plain": [
       "<Figure size 640x480 with 2 Axes>"
      ]
     },
     "metadata": {},
     "output_type": "display_data"
    },
    {
     "data": {
      "image/png": "[encoded data removed]",
      "text/plain": [
       "<Figure size 1000x600 with 1 Axes>"
      ]
     },
     "metadata": {},
     "output_type": "display_data"
    }
   ],
   "source": [
    "test_result_section = ModelResultAnalyzer(merged_df)\n",
    "test_result_section.plot_confusion_matrix()\n",
    "test_result_section.visualize_all_sections()"
   ]
  }
 ],
 "metadata": {
  "kernelspec": {
   "display_name": "georgelab",
   "language": "python",
   "name": "python3"
  },
  "language_info": {
   "codemirror_mode": {
    "name": "ipython",
    "version": 3
   },
   "file_extension": ".py",
   "mimetype": "text/x-python",
   "name": "python",
   "nbconvert_exporter": "python",
   "pygments_lexer": "ipython3",
   "version": "3.12.7"
  }
 },
 "nbformat": 4,
 "nbformat_minor": 2
}
